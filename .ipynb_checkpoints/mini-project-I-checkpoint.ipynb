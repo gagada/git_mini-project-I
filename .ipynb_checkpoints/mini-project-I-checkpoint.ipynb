{
 "cells": [
  {
   "cell_type": "markdown",
   "metadata": {},
   "source": [
    "# Mini-Project I\n",
    "During this project, we will practice handling of complex lists and dictionaries in Python. Plus, we will learn how to work with API documentation. Don't be afraid to search for the information in the [**documentation**](https://api.tfl.gov.uk/swagger/ui/index.html?url=/swagger/docs/v1#!/AccidentStats/AccidentStats_Get).\n",
    "\n",
    "Let's go to the tasks, we have some parsing to do :)!!"
   ]
  },
  {
   "cell_type": "code",
   "execution_count": 127,
   "metadata": {},
   "outputs": [],
   "source": [
    "# import packages we need (remember what packages we used yesterday during the API session)\n",
    "import requests as re\n",
    "import os"
   ]
  },
  {
   "cell_type": "markdown",
   "metadata": {},
   "source": [
    "## Demo"
   ]
  },
  {
   "cell_type": "code",
   "execution_count": 7,
   "metadata": {},
   "outputs": [],
   "source": [
    "# don't forget package os\n",
    "app_id = os.environ[\"APP_ID_LONDON\"]\n",
    "app_key = os.environ[\"APP_KEY_LONDON\"]\n",
    "url_append = f'?app_id={app_id}&app_key={app_key}' "
   ]
  },
  {
   "cell_type": "code",
   "execution_count": 8,
   "metadata": {},
   "outputs": [
    {
     "name": "stdout",
     "output_type": "stream",
     "text": [
      "?app_id=API&app_key=5c187238c4824f26b873428d792e9c62\n"
     ]
    }
   ],
   "source": [
    "print(url_append)"
   ]
  },
  {
   "cell_type": "code",
   "execution_count": 9,
   "metadata": {},
   "outputs": [],
   "source": [
    "# URL\n",
    "url = \"https://api.tfl.gov.uk/AirQuality\""
   ]
  },
  {
   "cell_type": "code",
   "execution_count": 10,
   "metadata": {},
   "outputs": [],
   "source": [
    "# We send the request to the API\n",
    "# NOTE: if you don't have your APP_KEY, run this without the url_append\n",
    "res = re.get(url+url_append)"
   ]
  },
  {
   "cell_type": "code",
   "execution_count": 11,
   "metadata": {},
   "outputs": [
    {
     "data": {
      "text/plain": [
       "200"
      ]
     },
     "execution_count": 11,
     "metadata": {},
     "output_type": "execute_result"
    }
   ],
   "source": [
    "# We can check if the request was successful\n",
    "res.status_code"
   ]
  },
  {
   "cell_type": "code",
   "execution_count": 31,
   "metadata": {},
   "outputs": [
    {
     "data": {
      "text/plain": [
       "{'$id': '1',\n",
       " '$type': 'Tfl.Api.Presentation.Entities.LondonAirForecast, Tfl.Api.Presentation.Entities',\n",
       " 'updatePeriod': 'hourly',\n",
       " 'updateFrequency': '1',\n",
       " 'forecastURL': 'http://londonair.org.uk/forecast',\n",
       " 'disclaimerText': 'This forecast is intended to provide information on expected pollution levels in areas of significant public exposure. It may not apply in very specific locations close to unusually strong or short-lived local sources of pollution.',\n",
       " 'currentForecast': [{'$id': '2',\n",
       "   '$type': 'Tfl.Api.Presentation.Entities.CurrentForecast, Tfl.Api.Presentation.Entities',\n",
       "   'forecastType': 'Current',\n",
       "   'forecastID': '34800',\n",
       "   'publishedDate': '2022-11-01T11:10:36Z',\n",
       "   'forecastBand': 'Moderate',\n",
       "   'forecastSummary': 'Moderate air pollution forecast valid from Thursday 13 January to end of Friday 14 January GMT',\n",
       "   'nO2Band': 'Moderate',\n",
       "   'o3Band': 'Low',\n",
       "   'pM10Band': 'Moderate',\n",
       "   'pM25Band': 'Moderate',\n",
       "   'sO2Band': 'Low',\n",
       "   'forecastText': 'Fine and settled, with some sunshine by day but with overnight frosts and stubborn fog patches readily developing, and perhaps staying for lengthy periods in some areas and suppressing temperatures. A very light westerly breeze will persist throughout.&lt;br/&gt; &lt;br/&gt;These settled, still and foggy conditions could lead to a build up of local pollutants with Moderate levels of Particulates and possibly Nitrogen Dioxide being reached at some busy roadside and industrial locations. &lt;br/&gt;&lt;br/&gt;Overall, air pollution is expected to remain &#39;Low&#39; throughout the forecast period for the following pollutants:&lt;br/&gt;&lt;br/&gt;Ozone&lt;br/&gt;Sulphur Dioxide&lt;br/&gt;&lt;br/&gt;&lt;br/&gt;'},\n",
       "  {'$id': '3',\n",
       "   '$type': 'Tfl.Api.Presentation.Entities.CurrentForecast, Tfl.Api.Presentation.Entities',\n",
       "   'forecastType': 'Future',\n",
       "   'forecastID': '34838',\n",
       "   'forecastBand': 'Moderate',\n",
       "   'forecastSummary': 'Moderate air pollution forecast valid from Friday 14 January to end of Friday 14 January GMT',\n",
       "   'nO2Band': 'Moderate',\n",
       "   'o3Band': 'Low',\n",
       "   'pM10Band': 'Moderate',\n",
       "   'pM25Band': 'Moderate',\n",
       "   'sO2Band': 'Low',\n",
       "   'forecastText': 'Fine and settled, with some sunshine by day but with overnight frosts and stubborn fog patches readily developing, and perhaps staying for lengthy periods in some areas and suppressing temperatures. Very little wind expected.&lt;br/&gt; &lt;br/&gt;These settled, still and foggy conditions could lead to a build up of local pollutants with Moderate levels of Particulates and possibly Nitrogen Dioxide being reached at some busy roadside and industrial locations. &lt;br/&gt;&lt;br/&gt;Overall, air pollution is expected to remain &#39;Low&#39; throughout the forecast period for the following pollutants:&lt;br/&gt;&lt;br/&gt;Ozone&lt;br/&gt;Sulphur Dioxide&lt;br/&gt;&lt;br/&gt;&lt;br/&gt;'}]}"
      ]
     },
     "execution_count": 31,
     "metadata": {},
     "output_type": "execute_result"
    }
   ],
   "source": [
    "# We can export the information that was returned using method .json()\n",
    "res.json()"
   ]
  },
  {
   "cell_type": "code",
   "execution_count": 32,
   "metadata": {},
   "outputs": [],
   "source": [
    "json_response = res.json()"
   ]
  },
  {
   "cell_type": "code",
   "execution_count": 44,
   "metadata": {},
   "outputs": [
    {
     "data": {
      "text/plain": [
       "{'$id': '1',\n",
       " '$type': 'Tfl.Api.Presentation.Entities.LondonAirForecast, Tfl.Api.Presentation.Entities',\n",
       " 'updatePeriod': 'hourly',\n",
       " 'updateFrequency': '1',\n",
       " 'forecastURL': 'http://londonair.org.uk/forecast',\n",
       " 'disclaimerText': 'This forecast is intended to provide information on expected pollution levels in areas of significant public exposure. It may not apply in very specific locations close to unusually strong or short-lived local sources of pollution.',\n",
       " 'currentForecast': [{'$id': '2',\n",
       "   '$type': 'Tfl.Api.Presentation.Entities.CurrentForecast, Tfl.Api.Presentation.Entities',\n",
       "   'forecastType': 'Current',\n",
       "   'forecastID': '34800',\n",
       "   'publishedDate': '2022-11-01T11:10:36Z',\n",
       "   'forecastBand': 'Moderate',\n",
       "   'forecastSummary': 'Moderate air pollution forecast valid from Thursday 13 January to end of Friday 14 January GMT',\n",
       "   'nO2Band': 'Moderate',\n",
       "   'o3Band': 'Low',\n",
       "   'pM10Band': 'Moderate',\n",
       "   'pM25Band': 'Moderate',\n",
       "   'sO2Band': 'Low',\n",
       "   'forecastText': 'Fine and settled, with some sunshine by day but with overnight frosts and stubborn fog patches readily developing, and perhaps staying for lengthy periods in some areas and suppressing temperatures. A very light westerly breeze will persist throughout.&lt;br/&gt; &lt;br/&gt;These settled, still and foggy conditions could lead to a build up of local pollutants with Moderate levels of Particulates and possibly Nitrogen Dioxide being reached at some busy roadside and industrial locations. &lt;br/&gt;&lt;br/&gt;Overall, air pollution is expected to remain &#39;Low&#39; throughout the forecast period for the following pollutants:&lt;br/&gt;&lt;br/&gt;Ozone&lt;br/&gt;Sulphur Dioxide&lt;br/&gt;&lt;br/&gt;&lt;br/&gt;'},\n",
       "  {'$id': '3',\n",
       "   '$type': 'Tfl.Api.Presentation.Entities.CurrentForecast, Tfl.Api.Presentation.Entities',\n",
       "   'forecastType': 'Future',\n",
       "   'forecastID': '34838',\n",
       "   'forecastBand': 'Moderate',\n",
       "   'forecastSummary': 'Moderate air pollution forecast valid from Friday 14 January to end of Friday 14 January GMT',\n",
       "   'nO2Band': 'Moderate',\n",
       "   'o3Band': 'Low',\n",
       "   'pM10Band': 'Moderate',\n",
       "   'pM25Band': 'Moderate',\n",
       "   'sO2Band': 'Low',\n",
       "   'forecastText': 'Fine and settled, with some sunshine by day but with overnight frosts and stubborn fog patches readily developing, and perhaps staying for lengthy periods in some areas and suppressing temperatures. Very little wind expected.&lt;br/&gt; &lt;br/&gt;These settled, still and foggy conditions could lead to a build up of local pollutants with Moderate levels of Particulates and possibly Nitrogen Dioxide being reached at some busy roadside and industrial locations. &lt;br/&gt;&lt;br/&gt;Overall, air pollution is expected to remain &#39;Low&#39; throughout the forecast period for the following pollutants:&lt;br/&gt;&lt;br/&gt;Ozone&lt;br/&gt;Sulphur Dioxide&lt;br/&gt;&lt;br/&gt;&lt;br/&gt;'}]}"
      ]
     },
     "execution_count": 44,
     "metadata": {},
     "output_type": "execute_result"
    }
   ],
   "source": [
    "json_response"
   ]
  },
  {
   "cell_type": "code",
   "execution_count": 41,
   "metadata": {},
   "outputs": [
    {
     "data": {
      "text/plain": [
       "{'$id': '3',\n",
       " '$type': 'Tfl.Api.Presentation.Entities.CurrentForecast, Tfl.Api.Presentation.Entities',\n",
       " 'forecastType': 'Future',\n",
       " 'forecastID': '34838',\n",
       " 'forecastBand': 'Moderate',\n",
       " 'forecastSummary': 'Moderate air pollution forecast valid from Friday 14 January to end of Friday 14 January GMT',\n",
       " 'nO2Band': 'Moderate',\n",
       " 'o3Band': 'Low',\n",
       " 'pM10Band': 'Moderate',\n",
       " 'pM25Band': 'Moderate',\n",
       " 'sO2Band': 'Low',\n",
       " 'forecastText': 'Fine and settled, with some sunshine by day but with overnight frosts and stubborn fog patches readily developing, and perhaps staying for lengthy periods in some areas and suppressing temperatures. Very little wind expected.&lt;br/&gt; &lt;br/&gt;These settled, still and foggy conditions could lead to a build up of local pollutants with Moderate levels of Particulates and possibly Nitrogen Dioxide being reached at some busy roadside and industrial locations. &lt;br/&gt;&lt;br/&gt;Overall, air pollution is expected to remain &#39;Low&#39; throughout the forecast period for the following pollutants:&lt;br/&gt;&lt;br/&gt;Ozone&lt;br/&gt;Sulphur Dioxide&lt;br/&gt;&lt;br/&gt;&lt;br/&gt;'}"
      ]
     },
     "execution_count": 41,
     "metadata": {},
     "output_type": "execute_result"
    }
   ],
   "source": [
    "json_response['currentForecast'][1]"
   ]
  },
  {
   "cell_type": "markdown",
   "metadata": {},
   "source": [
    "## Task\n",
    "Parse the dictionary and print the AirQuality predictions for tomorrow"
   ]
  },
  {
   "cell_type": "code",
   "execution_count": 45,
   "metadata": {},
   "outputs": [
    {
     "data": {
      "text/plain": [
       "'Fine and settled, with some sunshine by day but with overnight frosts and stubborn fog patches readily developing, and perhaps staying for lengthy periods in some areas and suppressing temperatures. Very little wind expected.&lt;br/&gt; &lt;br/&gt;These settled, still and foggy conditions could lead to a build up of local pollutants with Moderate levels of Particulates and possibly Nitrogen Dioxide being reached at some busy roadside and industrial locations. &lt;br/&gt;&lt;br/&gt;Overall, air pollution is expected to remain &#39;Low&#39; throughout the forecast period for the following pollutants:&lt;br/&gt;&lt;br/&gt;Ozone&lt;br/&gt;Sulphur Dioxide&lt;br/&gt;&lt;br/&gt;&lt;br/&gt;'"
      ]
     },
     "execution_count": 45,
     "metadata": {},
     "output_type": "execute_result"
    }
   ],
   "source": [
    "json_response['currentForecast'][1]['forecastText']"
   ]
  },
  {
   "cell_type": "code",
   "execution_count": 65,
   "metadata": {},
   "outputs": [
    {
     "data": {
      "text/plain": [
       "['Fine and settled, with some sunshine by day but with overnight frosts and stubborn fog patches readily developing, and perhaps staying for lengthy periods in some areas and suppressing temperatures. Very little wind expected.&lt',\n",
       " 'br/&gt',\n",
       " ' &lt',\n",
       " 'br/&gt',\n",
       " 'These settled, still and foggy conditions could lead to a build up of local pollutants with Moderate levels of Particulates and possibly Nitrogen Dioxide being reached at some busy roadside and industrial locations. &lt',\n",
       " 'br/&gt',\n",
       " '&lt',\n",
       " 'br/&gt',\n",
       " 'Overall, air pollution is expected to remain &#39',\n",
       " 'Low&#39',\n",
       " ' throughout the forecast period for the following pollutants:&lt',\n",
       " 'br/&gt',\n",
       " '&lt',\n",
       " 'br/&gt',\n",
       " 'Ozone&lt',\n",
       " 'br/&gt',\n",
       " 'Sulphur Dioxide&lt',\n",
       " 'br/&gt',\n",
       " '&lt',\n",
       " 'br/&gt',\n",
       " '&lt',\n",
       " 'br/&gt',\n",
       " '']"
      ]
     },
     "execution_count": 65,
     "metadata": {},
     "output_type": "execute_result"
    }
   ],
   "source": [
    "json_response['currentForecast'][1]['forecastText'].split(';')"
   ]
  },
  {
   "cell_type": "code",
   "execution_count": 64,
   "metadata": {},
   "outputs": [],
   "source": [
    "api_list_test = json_response['currentForecast'][1]['forecastText'].split(';')"
   ]
  },
  {
   "cell_type": "code",
   "execution_count": 60,
   "metadata": {},
   "outputs": [],
   "source": [
    "def specific_air_quality(api_list):\n",
    "    final_string = \"\"\n",
    "    for value in json_response['currentForecast'][1]['forecastText'].split(';'):\n",
    "        if len(value) > 8:\n",
    "            final_string+=value\n",
    "    final_string = final_string.replace(\"&lt\",\"\")\n",
    "    final_string = final_string.replace(\"&#39\",\"\")\n",
    "    return final_string"
   ]
  },
  {
   "cell_type": "code",
   "execution_count": 255,
   "metadata": {},
   "outputs": [
    {
     "name": "stdout",
     "output_type": "stream",
     "text": [
      "Fine and settled, with some sunshine by day but with overnight frosts and stubborn fog patches readily developing, and perhaps staying for lengthy periods in some areas and suppressing temperatures. Very little wind expected.These settled, still and foggy conditions could lead to a build up of local pollutants with Moderate levels of Particulates and possibly Nitrogen Dioxide being reached at some busy roadside and industrial locations. Overall, air pollution is expected to remain  throughout the forecast period for the following pollutants:Sulphur Dioxide\n"
     ]
    }
   ],
   "source": [
    "air_quality_predictions_tomm = specific_air_quality(api_list_test)\n",
    "print(air_quality_predictions_tomm)"
   ]
  },
  {
   "cell_type": "markdown",
   "metadata": {},
   "source": [
    "## Task\n",
    "What are the different modes of transport which are operated by Transfer for London? How many of modes do they have?\n",
    "\n",
    "Print the list with different modes of transport, plus their count. Example output:\n",
    "```\n",
    "[bus, cable-car,.....]\n",
    "Number of different modes of transport is: xyz\n",
    "```\n",
    "\n",
    "We need to search the documentation for correct request."
   ]
  },
  {
   "cell_type": "code",
   "execution_count": 66,
   "metadata": {},
   "outputs": [],
   "source": [
    "transport_url = 'https://api.tfl.gov.uk/Line/Meta/Modes'"
   ]
  },
  {
   "cell_type": "code",
   "execution_count": 68,
   "metadata": {},
   "outputs": [],
   "source": [
    "response = re.get(transport_url+url_append)"
   ]
  },
  {
   "cell_type": "code",
   "execution_count": 69,
   "metadata": {},
   "outputs": [
    {
     "data": {
      "text/plain": [
       "200"
      ]
     },
     "execution_count": 69,
     "metadata": {},
     "output_type": "execute_result"
    }
   ],
   "source": [
    "response.status_code"
   ]
  },
  {
   "cell_type": "code",
   "execution_count": 70,
   "metadata": {},
   "outputs": [
    {
     "data": {
      "text/plain": [
       "[{'$type': 'Tfl.Api.Presentation.Entities.Mode, Tfl.Api.Presentation.Entities',\n",
       "  'isTflService': True,\n",
       "  'isFarePaying': True,\n",
       "  'isScheduledService': True,\n",
       "  'modeName': 'bus'},\n",
       " {'$type': 'Tfl.Api.Presentation.Entities.Mode, Tfl.Api.Presentation.Entities',\n",
       "  'isTflService': True,\n",
       "  'isFarePaying': True,\n",
       "  'isScheduledService': True,\n",
       "  'modeName': 'cable-car'},\n",
       " {'$type': 'Tfl.Api.Presentation.Entities.Mode, Tfl.Api.Presentation.Entities',\n",
       "  'isTflService': False,\n",
       "  'isFarePaying': True,\n",
       "  'isScheduledService': True,\n",
       "  'modeName': 'coach'},\n",
       " {'$type': 'Tfl.Api.Presentation.Entities.Mode, Tfl.Api.Presentation.Entities',\n",
       "  'isTflService': False,\n",
       "  'isFarePaying': False,\n",
       "  'isScheduledService': False,\n",
       "  'modeName': 'cycle'},\n",
       " {'$type': 'Tfl.Api.Presentation.Entities.Mode, Tfl.Api.Presentation.Entities',\n",
       "  'isTflService': True,\n",
       "  'isFarePaying': True,\n",
       "  'isScheduledService': False,\n",
       "  'modeName': 'cycle-hire'},\n",
       " {'$type': 'Tfl.Api.Presentation.Entities.Mode, Tfl.Api.Presentation.Entities',\n",
       "  'isTflService': True,\n",
       "  'isFarePaying': True,\n",
       "  'isScheduledService': True,\n",
       "  'modeName': 'dlr'},\n",
       " {'$type': 'Tfl.Api.Presentation.Entities.Mode, Tfl.Api.Presentation.Entities',\n",
       "  'isTflService': False,\n",
       "  'isFarePaying': False,\n",
       "  'isScheduledService': False,\n",
       "  'modeName': 'interchange-keep-sitting'},\n",
       " {'$type': 'Tfl.Api.Presentation.Entities.Mode, Tfl.Api.Presentation.Entities',\n",
       "  'isTflService': False,\n",
       "  'isFarePaying': False,\n",
       "  'isScheduledService': False,\n",
       "  'modeName': 'interchange-secure'},\n",
       " {'$type': 'Tfl.Api.Presentation.Entities.Mode, Tfl.Api.Presentation.Entities',\n",
       "  'isTflService': False,\n",
       "  'isFarePaying': True,\n",
       "  'isScheduledService': True,\n",
       "  'modeName': 'national-rail'},\n",
       " {'$type': 'Tfl.Api.Presentation.Entities.Mode, Tfl.Api.Presentation.Entities',\n",
       "  'isTflService': True,\n",
       "  'isFarePaying': True,\n",
       "  'isScheduledService': True,\n",
       "  'modeName': 'overground'},\n",
       " {'$type': 'Tfl.Api.Presentation.Entities.Mode, Tfl.Api.Presentation.Entities',\n",
       "  'isTflService': True,\n",
       "  'isFarePaying': True,\n",
       "  'isScheduledService': True,\n",
       "  'modeName': 'replacement-bus'},\n",
       " {'$type': 'Tfl.Api.Presentation.Entities.Mode, Tfl.Api.Presentation.Entities',\n",
       "  'isTflService': True,\n",
       "  'isFarePaying': True,\n",
       "  'isScheduledService': True,\n",
       "  'modeName': 'river-bus'},\n",
       " {'$type': 'Tfl.Api.Presentation.Entities.Mode, Tfl.Api.Presentation.Entities',\n",
       "  'isTflService': True,\n",
       "  'isFarePaying': True,\n",
       "  'isScheduledService': True,\n",
       "  'modeName': 'river-tour'},\n",
       " {'$type': 'Tfl.Api.Presentation.Entities.Mode, Tfl.Api.Presentation.Entities',\n",
       "  'isTflService': False,\n",
       "  'isFarePaying': False,\n",
       "  'isScheduledService': False,\n",
       "  'modeName': 'taxi'},\n",
       " {'$type': 'Tfl.Api.Presentation.Entities.Mode, Tfl.Api.Presentation.Entities',\n",
       "  'isTflService': True,\n",
       "  'isFarePaying': True,\n",
       "  'isScheduledService': True,\n",
       "  'modeName': 'tflrail'},\n",
       " {'$type': 'Tfl.Api.Presentation.Entities.Mode, Tfl.Api.Presentation.Entities',\n",
       "  'isTflService': True,\n",
       "  'isFarePaying': True,\n",
       "  'isScheduledService': True,\n",
       "  'modeName': 'tram'},\n",
       " {'$type': 'Tfl.Api.Presentation.Entities.Mode, Tfl.Api.Presentation.Entities',\n",
       "  'isTflService': True,\n",
       "  'isFarePaying': True,\n",
       "  'isScheduledService': True,\n",
       "  'modeName': 'tube'},\n",
       " {'$type': 'Tfl.Api.Presentation.Entities.Mode, Tfl.Api.Presentation.Entities',\n",
       "  'isTflService': False,\n",
       "  'isFarePaying': False,\n",
       "  'isScheduledService': False,\n",
       "  'modeName': 'walking'}]"
      ]
     },
     "execution_count": 70,
     "metadata": {},
     "output_type": "execute_result"
    }
   ],
   "source": [
    "response.json()"
   ]
  },
  {
   "cell_type": "code",
   "execution_count": 72,
   "metadata": {},
   "outputs": [
    {
     "data": {
      "text/plain": [
       "'bus'"
      ]
     },
     "execution_count": 72,
     "metadata": {},
     "output_type": "execute_result"
    }
   ],
   "source": [
    "response.json()[0]['modeName']"
   ]
  },
  {
   "cell_type": "code",
   "execution_count": 73,
   "metadata": {},
   "outputs": [],
   "source": [
    "modes = response.json()"
   ]
  },
  {
   "cell_type": "code",
   "execution_count": 75,
   "metadata": {},
   "outputs": [
    {
     "name": "stdout",
     "output_type": "stream",
     "text": [
      "['bus', 'cable-car', 'coach', 'cycle', 'cycle-hire', 'dlr', 'interchange-keep-sitting', 'interchange-secure', 'national-rail', 'overground', 'replacement-bus', 'river-bus', 'river-tour', 'taxi', 'tflrail', 'tram', 'tube', 'walking']\n",
      "Number of different modes of transport is: 18\n"
     ]
    }
   ],
   "source": [
    "final_modes = []\n",
    "total_modes = 0\n",
    "for i, mode in enumerate(modes):\n",
    "    final_modes.append(modes[i]['modeName'])\n",
    "    total_modes+=1\n",
    "print(final_modes)\n",
    "print(f'Number of different modes of transport is: {total_modes}')"
   ]
  },
  {
   "cell_type": "markdown",
   "metadata": {},
   "source": [
    "## Task\n",
    "How many BikePoints in London are operated by Transfor for London? How many docks are in **all** BikePoints? There is the information for empty and full docks for each BikePoint."
   ]
  },
  {
   "cell_type": "code",
   "execution_count": 266,
   "metadata": {},
   "outputs": [],
   "source": [
    "bikepoint_url = 'https://api.tfl.gov.uk/BikePoint/'"
   ]
  },
  {
   "cell_type": "code",
   "execution_count": 267,
   "metadata": {},
   "outputs": [],
   "source": [
    "bikepoint_response = re.get(bikepoint_url+url_append)"
   ]
  },
  {
   "cell_type": "code",
   "execution_count": 268,
   "metadata": {},
   "outputs": [
    {
     "data": {
      "text/plain": [
       "200"
      ]
     },
     "execution_count": 268,
     "metadata": {},
     "output_type": "execute_result"
    }
   ],
   "source": [
    "bikepoint_response.status_code"
   ]
  },
  {
   "cell_type": "code",
   "execution_count": 269,
   "metadata": {},
   "outputs": [
    {
     "data": {
      "text/plain": [
       "{'$type': 'Tfl.Api.Presentation.Entities.Place, Tfl.Api.Presentation.Entities',\n",
       " 'id': 'BikePoints_302',\n",
       " 'url': '/Place/BikePoints_302',\n",
       " 'commonName': 'Putney Pier, Wandsworth',\n",
       " 'placeType': 'BikePoint',\n",
       " 'additionalProperties': [{'$type': 'Tfl.Api.Presentation.Entities.AdditionalProperties, Tfl.Api.Presentation.Entities',\n",
       "   'category': 'Description',\n",
       "   'key': 'TerminalName',\n",
       "   'sourceSystemKey': 'BikePoints',\n",
       "   'value': '003492',\n",
       "   'modified': '2022-01-14T22:24:55.07Z'},\n",
       "  {'$type': 'Tfl.Api.Presentation.Entities.AdditionalProperties, Tfl.Api.Presentation.Entities',\n",
       "   'category': 'Description',\n",
       "   'key': 'Installed',\n",
       "   'sourceSystemKey': 'BikePoints',\n",
       "   'value': 'true',\n",
       "   'modified': '2022-01-14T22:24:55.07Z'},\n",
       "  {'$type': 'Tfl.Api.Presentation.Entities.AdditionalProperties, Tfl.Api.Presentation.Entities',\n",
       "   'category': 'Description',\n",
       "   'key': 'Locked',\n",
       "   'sourceSystemKey': 'BikePoints',\n",
       "   'value': 'false',\n",
       "   'modified': '2022-01-14T22:24:55.07Z'},\n",
       "  {'$type': 'Tfl.Api.Presentation.Entities.AdditionalProperties, Tfl.Api.Presentation.Entities',\n",
       "   'category': 'Description',\n",
       "   'key': 'InstallDate',\n",
       "   'sourceSystemKey': 'BikePoints',\n",
       "   'value': '1279812360000',\n",
       "   'modified': '2022-01-14T22:24:55.07Z'},\n",
       "  {'$type': 'Tfl.Api.Presentation.Entities.AdditionalProperties, Tfl.Api.Presentation.Entities',\n",
       "   'category': 'Description',\n",
       "   'key': 'RemovalDate',\n",
       "   'sourceSystemKey': 'BikePoints',\n",
       "   'value': '',\n",
       "   'modified': '2022-01-14T22:24:55.07Z'},\n",
       "  {'$type': 'Tfl.Api.Presentation.Entities.AdditionalProperties, Tfl.Api.Presentation.Entities',\n",
       "   'category': 'Description',\n",
       "   'key': 'Temporary',\n",
       "   'sourceSystemKey': 'BikePoints',\n",
       "   'value': 'false',\n",
       "   'modified': '2022-01-14T22:24:55.07Z'},\n",
       "  {'$type': 'Tfl.Api.Presentation.Entities.AdditionalProperties, Tfl.Api.Presentation.Entities',\n",
       "   'category': 'Description',\n",
       "   'key': 'NbBikes',\n",
       "   'sourceSystemKey': 'BikePoints',\n",
       "   'value': '19',\n",
       "   'modified': '2022-01-14T22:24:55.07Z'},\n",
       "  {'$type': 'Tfl.Api.Presentation.Entities.AdditionalProperties, Tfl.Api.Presentation.Entities',\n",
       "   'category': 'Description',\n",
       "   'key': 'NbEmptyDocks',\n",
       "   'sourceSystemKey': 'BikePoints',\n",
       "   'value': '8',\n",
       "   'modified': '2022-01-14T22:24:55.07Z'},\n",
       "  {'$type': 'Tfl.Api.Presentation.Entities.AdditionalProperties, Tfl.Api.Presentation.Entities',\n",
       "   'category': 'Description',\n",
       "   'key': 'NbDocks',\n",
       "   'sourceSystemKey': 'BikePoints',\n",
       "   'value': '28',\n",
       "   'modified': '2022-01-14T22:24:55.07Z'}],\n",
       " 'children': [],\n",
       " 'childrenUrls': [],\n",
       " 'lat': 51.466907,\n",
       " 'lon': -0.216573}"
      ]
     },
     "execution_count": 269,
     "metadata": {},
     "output_type": "execute_result"
    }
   ],
   "source": [
    "bikepoint_response.json()[0]"
   ]
  },
  {
   "cell_type": "code",
   "execution_count": 270,
   "metadata": {},
   "outputs": [
    {
     "data": {
      "text/plain": [
       "'BikePoints_302'"
      ]
     },
     "execution_count": 270,
     "metadata": {},
     "output_type": "execute_result"
    }
   ],
   "source": [
    "bikepoint_response.json()[0]['id']"
   ]
  },
  {
   "cell_type": "code",
   "execution_count": 271,
   "metadata": {},
   "outputs": [
    {
     "data": {
      "text/plain": [
       "{'$type': 'Tfl.Api.Presentation.Entities.AdditionalProperties, Tfl.Api.Presentation.Entities',\n",
       " 'category': 'Description',\n",
       " 'key': 'NbDocks',\n",
       " 'sourceSystemKey': 'BikePoints',\n",
       " 'value': '28',\n",
       " 'modified': '2022-01-14T22:24:55.07Z'}"
      ]
     },
     "execution_count": 271,
     "metadata": {},
     "output_type": "execute_result"
    }
   ],
   "source": [
    "bikepoint_response.json()[0]['additionalProperties'][8]"
   ]
  },
  {
   "cell_type": "code",
   "execution_count": 272,
   "metadata": {},
   "outputs": [
    {
     "name": "stdout",
     "output_type": "stream",
     "text": [
      "BikePoints in London which are operated by Transfor for London: 788\n",
      "Number of docks in all dock BikePoints: 20942\n"
     ]
    }
   ],
   "source": [
    "total_bikepoints = 0\n",
    "total_nbdocks = 0\n",
    "for i, bp in enumerate(bikepoint_response.json()):\n",
    "    if bikepoint_response.json()[i]['id'] != None:\n",
    "        total_bikepoints+=1\n",
    "        if bikepoint_response.json()[i]['additionalProperties'][8]['key'] == 'NbDocks':\n",
    "            total_nbdocks+=int(bikepoint_response.json()[i]['additionalProperties'][8]['value'])\n",
    "            \n",
    "print(f'BikePoints in London which are operated by Transfor for London: {total_bikepoints}')\n",
    "print(f'Number of docks in all dock BikePoints: {total_nbdocks}')"
   ]
  },
  {
   "cell_type": "markdown",
   "metadata": {},
   "source": [
    "## Task\n",
    "How many tube and bus lines are in London? Print names of all tube lines."
   ]
  },
  {
   "cell_type": "code",
   "execution_count": 251,
   "metadata": {},
   "outputs": [
    {
     "data": {
      "text/plain": [
       "200"
      ]
     },
     "execution_count": 251,
     "metadata": {},
     "output_type": "execute_result"
    }
   ],
   "source": [
    "tubeBus_url= 'https://api.tfl.gov.uk/Line/Route?Regular'\n",
    "tubeBus_response = re.get(tubeBus_url+url_append)\n",
    "tubeBus_response.status_code"
   ]
  },
  {
   "cell_type": "code",
   "execution_count": 124,
   "metadata": {},
   "outputs": [
    {
     "data": {
      "text/plain": [
       "{'$type': 'Tfl.Api.Presentation.Entities.MatchedRoute, Tfl.Api.Presentation.Entities',\n",
       " 'name': 'Canada Water Bus Station - Tottenham Court Road',\n",
       " 'direction': 'inbound',\n",
       " 'originationName': 'Canada Water Bus Station',\n",
       " 'destinationName': 'Tottenham Court Road',\n",
       " 'originator': '490004733C',\n",
       " 'destination': '490000235N',\n",
       " 'serviceType': 'Regular',\n",
       " 'validTo': '2022-12-23T00:00:00Z',\n",
       " 'validFrom': '2022-01-08T00:00:00Z'}"
      ]
     },
     "execution_count": 124,
     "metadata": {},
     "output_type": "execute_result"
    }
   ],
   "source": [
    "tubeBus_response.json()[0]['routeSections'][0]"
   ]
  },
  {
   "cell_type": "code",
   "execution_count": 136,
   "metadata": {},
   "outputs": [
    {
     "name": "stdout",
     "output_type": "stream",
     "text": [
      "Number of bus lines: 678, Number of tube lines: 11\n",
      "Number of tube and bus lines in London: 689\n",
      "Tube Name: Inbound: Harrow & Wealdstone Underground Station - Elephant & Castle Underground Station\n",
      "Tube Name: Outbound: Elephant & Castle Underground Station - Harrow & Wealdstone Underground Station\n",
      "Tube Name: Inbound: Epping Underground Station - West Ruislip Underground Station\n",
      "Tube Name: Outbound: West Ruislip Underground Station - Epping Underground Station\n",
      "Tube Name: Inbound: Edgware Road (Circle Line) Underground Station - Hammersmith (H&C Line) Underground Station\n",
      "Tube Name: Outbound: Hammersmith (H&C Line) Underground Station - Edgware Road (Circle Line) Underground Station\n",
      "Tube Name: Inbound: Upminster Underground Station - Ealing Broadway Underground Station\n",
      "Tube Name: Outbound: Ealing Broadway Underground Station - Upminster Underground Station\n",
      "Tube Name: Inbound: Barking Underground Station - Hammersmith (H&C Line) Underground Station\n",
      "Tube Name: Outbound: Hammersmith (H&C Line) Underground Station - Barking Underground Station\n",
      "Tube Name: Inbound: Stratford Underground Station - Stanmore Underground Station\n",
      "Tube Name: Outbound: Stanmore Underground Station - Stratford Underground Station\n",
      "Tube Name: Inbound: Amersham Underground Station - Aldgate Underground Station\n",
      "Tube Name: Outbound: Aldgate Underground Station - Amersham Underground Station\n",
      "Tube Name: Inbound: High Barnet Underground Station - Morden Underground Station\n",
      "Tube Name: Outbound: High Barnet Underground Station - Morden Underground Station\n",
      "Tube Name: Inbound: Cockfosters Underground Station - Uxbridge Underground Station\n",
      "Tube Name: Outbound: Uxbridge Underground Station - Cockfosters Underground Station\n",
      "Tube Name: Inbound: Walthamstow Central Underground Station - Brixton Underground Station\n",
      "Tube Name: Outbound: Brixton Underground Station - Walthamstow Central Underground Station\n",
      "Tube Name: Inbound: Bank Underground Station - Waterloo Underground Station\n",
      "Tube Name: Outbound: Waterloo Underground Station - Bank Underground Station\n"
     ]
    }
   ],
   "source": [
    "tubeline_count = 0\n",
    "busline_count = 0\n",
    "tube_list = []\n",
    "flag = 0\n",
    "\n",
    "for i, line in enumerate(tubeBus_response.json()):\n",
    "    if tubeBus_response.json()[i]['modeName'] == 'bus':\n",
    "        busline_count+=1\n",
    "    elif tubeBus_response.json()[i]['modeName'] == 'tube':\n",
    "        tubeline_count+=1\n",
    "        tube_list.append('Inbound: ' +tubeBus_response.json()[i]['routeSections'][0]['name'])\n",
    "        tube_list.append('Outbound: ' +tubeBus_response.json()[i]['routeSections'][1]['name'])\n",
    "    else:\n",
    "        pass\n",
    "print(f'Number of bus lines: {busline_count}, Number of tube lines: {tubeline_count}')\n",
    "print(f'Number of tube and bus lines in London: {busline_count+tubeline_count}')\n",
    "\n",
    "#To control Inbound and Outbound Line Printing.\n",
    "for name in tube_list:\n",
    "    if flag == 0:\n",
    "        print(f'Tube Name: {name}')\n",
    "        flag+=1\n",
    "    elif flag == 1:\n",
    "        print(f'Tube Name: {name}')\n",
    "        flag = 0\n",
    "    else:\n",
    "        pass"
   ]
  },
  {
   "cell_type": "markdown",
   "metadata": {},
   "source": [
    "## Task\n",
    "How many station has `victoria` line?"
   ]
  },
  {
   "cell_type": "code",
   "execution_count": 137,
   "metadata": {},
   "outputs": [
    {
     "data": {
      "text/plain": [
       "200"
      ]
     },
     "execution_count": 137,
     "metadata": {},
     "output_type": "execute_result"
    }
   ],
   "source": [
    "victoria_url = 'https://api.tfl.gov.uk/Line/victoria/StopPoints?true'\n",
    "victoria_response = re.get(victoria_url+url_append)\n",
    "victoria_response.status_code"
   ]
  },
  {
   "cell_type": "code",
   "execution_count": 190,
   "metadata": {},
   "outputs": [
    {
     "data": {
      "text/plain": [
       "16"
      ]
     },
     "execution_count": 190,
     "metadata": {},
     "output_type": "execute_result"
    }
   ],
   "source": [
    "len(victoria_response.json())"
   ]
  },
  {
   "cell_type": "code",
   "execution_count": 192,
   "metadata": {},
   "outputs": [
    {
     "name": "stdout",
     "output_type": "stream",
     "text": [
      "Number of stations on the victoria line: 16\n"
     ]
    }
   ],
   "source": [
    "total_victoria_stations = 0\n",
    "for i in range(len(victoria_response.json())):\n",
    "    if victoria_response.json():\n",
    "        total_victoria_stations+=1\n",
    "print(f'Number of stations on the victoria line: {total_victoria_stations}')"
   ]
  },
  {
   "cell_type": "markdown",
   "metadata": {},
   "source": [
    "## Task\n",
    "Plan the journey from Heathrow Airport to Tower Bridge using Bus and Tube? Which way is faster? Example output:\n",
    "```\n",
    "Planned duration:\n",
    "Bus: x minutes\n",
    "Tube: y minutes\n",
    "```\n",
    "\n",
    "We need to search the documentation for correct requests and parameters we need."
   ]
  },
  {
   "cell_type": "code",
   "execution_count": 262,
   "metadata": {},
   "outputs": [
    {
     "data": {
      "text/plain": [
       "200"
      ]
     },
     "execution_count": 262,
     "metadata": {},
     "output_type": "execute_result"
    }
   ],
   "source": [
    "journey_url = 'https://api.tfl.gov.uk/journey/journeyresults/51.470020,-0.454295/to/51.505554,-0.075278'\n",
    "journey_response = re.get(journey_url+url_append)\n",
    "journey_response.status_code"
   ]
  },
  {
   "cell_type": "code",
   "execution_count": 263,
   "metadata": {},
   "outputs": [
    {
     "data": {
      "text/plain": [
       "83"
      ]
     },
     "execution_count": 263,
     "metadata": {},
     "output_type": "execute_result"
    }
   ],
   "source": [
    "journey_response.json()['journeys'][1]['duration']"
   ]
  },
  {
   "cell_type": "code",
   "execution_count": 264,
   "metadata": {},
   "outputs": [
    {
     "name": "stdout",
     "output_type": "stream",
     "text": [
      "Planned duration:\n",
      "Bus: 83 minutes\n",
      "Tube: N/A minutes (Not available as a mode of transport)\n"
     ]
    }
   ],
   "source": [
    "duration = 1000\n",
    "for i in range(len(journey_response.json()['journeys'])):\n",
    "    if journey_response.json()['journeys'][i]['duration'] < duration:\n",
    "        duration = journey_response.json()['journeys'][i]['duration']\n",
    "print(f'Planned duration:\\nBus: {duration} minutes\\nTube: N/A minutes (Not available as a mode of transport)')"
   ]
  },
  {
   "cell_type": "code",
   "execution_count": 260,
   "metadata": {},
   "outputs": [],
   "source": [
    "def get_request(url):\n",
    "    final_url = url\n",
    "    res = re.get(final_url+url_append)\n",
    "    return(res.status_code)"
   ]
  },
  {
   "cell_type": "code",
   "execution_count": 261,
   "metadata": {},
   "outputs": [
    {
     "data": {
      "text/plain": [
       "200"
      ]
     },
     "execution_count": 261,
     "metadata": {},
     "output_type": "execute_result"
    }
   ],
   "source": [
    "get_request('https://api.tfl.gov.uk/journey/journeyresults/51.470020,-0.454295/to/51.505554,-0.075278')"
   ]
  },
  {
   "cell_type": "code",
   "execution_count": null,
   "metadata": {},
   "outputs": [],
   "source": []
  }
 ],
 "metadata": {
  "kernelspec": {
   "display_name": "Python 3 (ipykernel)",
   "language": "python",
   "name": "python3"
  },
  "language_info": {
   "codemirror_mode": {
    "name": "ipython",
    "version": 3
   },
   "file_extension": ".py",
   "mimetype": "text/x-python",
   "name": "python",
   "nbconvert_exporter": "python",
   "pygments_lexer": "ipython3",
   "version": "3.8.12"
  }
 },
 "nbformat": 4,
 "nbformat_minor": 4
}
